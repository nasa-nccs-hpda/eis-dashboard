{
 "cells": [
  {
   "cell_type": "markdown",
   "id": "425781e7-3da0-4f28-8aaf-ee76ea651b79",
   "metadata": {},
   "source": [
    "# EIS Point-and-Click Dashboard\n",
    "\n",
    "Version: 0.2.0\n",
    "\n",
    "Date: 09.22.23\n",
    "## Note:\n",
    "This is an alpha version of the notebooks/application. There may be bugs or unforseen error while users are interacting with it.\n",
    "\n",
    "## Bug reporting\n",
    "As this is an alpha version, it is highly encouraged for any users to submit a bug report so developers may resolve it. To report a bug, click here\n",
    "https://github.com/nasa-nccs-hpda/eis-dashboard/issues, click \"New Issue\" and select \"Bug Report\". A log file will be generated in this dir, please attach the log to the bug report. \n",
    "\n",
    "## Instructions:\n",
    "- Run all of the below code cells\n",
    "- A dashboard will be visualized, click \"Time-Series Variables\" widget to select a variable to visualize the time-series of. \n",
    "- Click on the map to update the time-series graph to show a time-series of the data selected at the point chosen.\n",
    "\n",
    "\n",
    "### Note: \n",
    "It may take some time for the variable to load into memory and be visualized. In order to keep this usable on most\n",
    "systems it is necessary to fit the data into distributed dask arrays in case the data is too large for the memory\n",
    "capacity of the system running the dashboard."
   ]
  },
  {
   "cell_type": "code",
   "execution_count": null,
   "id": "036d6d9c",
   "metadata": {},
   "outputs": [],
   "source": [
    "!pip install omegaconf"
   ]
  },
  {
   "cell_type": "code",
   "execution_count": null,
   "id": "4663a73a-b54a-4dbb-b699-a7f75730a177",
   "metadata": {},
   "outputs": [],
   "source": [
    "import sys\n",
    "\n",
    "sys.path.append('../../eis-dashboard')\n",
    "\n",
    "from swotdashboard.model.pointAndClickDashboard import PointDashBoard"
   ]
  },
  {
   "cell_type": "code",
   "execution_count": null,
   "id": "573d299a-333e-4bda-9f60-8827cdd3bda6",
   "metadata": {},
   "outputs": [],
   "source": [
    "import panel as pn\n",
    "import hvplot.xarray\n",
    "pn.extension()"
   ]
  },
  {
   "cell_type": "code",
   "execution_count": null,
   "id": "b5c18f5c-66cf-4e4b-8beb-0f41c46e6a77",
   "metadata": {},
   "outputs": [],
   "source": [
    "dashboard = PointDashBoard(config_file='../../eis-dashboard/configs/example_config.yaml')"
   ]
  },
  {
   "cell_type": "markdown",
   "id": "bdc6b3fb-d45f-4670-963b-5bdb9048aecf",
   "metadata": {},
   "source": [
    "## EIS General Point-and-click dashboard instructions\n",
    "\n",
    "1. Run the below code cell to render the dashboard. \n",
    "\n",
    "The data requested through the config file is already loaded, you may select variables\n",
    "\n",
    "2. Select which variables to render by searching through the \"Time Series Variables\" widget.\n",
    "\n",
    "The time-series will be rendered (sometimes this may lag)\n",
    "\n",
    "3. Click on the map to update the time-series to show the data from the location selected by the user. \n",
    "\n",
    "The marker will show where the user has clicked, the time-series will auto-update to the selected location.\n",
    "\n",
    "4. Users can change the time-step of the time-series from daily to be what the user decides in the \"Time Step\" widget.\n",
    "\n",
    "The \"Time Step\" widget accepts a string in the form of ND where N is the number of days the time-step should be (e.g. 2D or 14D)\n",
    "\n",
    "5. Users may export the time-series to a CSV, it will be saved in the formal `<COLLECTION_ID>_<VARIABLE>.csv`\n",
    "\n",
    "\n",
    "<i> Note: The status indicator below the title of the dashboard will show the status of the dashboard </i>\n"
   ]
  },
  {
   "cell_type": "code",
   "execution_count": null,
   "id": "d1d8205d-3876-45bd-a8b8-23bb55be1f3e",
   "metadata": {
    "tags": []
   },
   "outputs": [],
   "source": [
    "dashboard.view()"
   ]
  },
  {
   "cell_type": "code",
   "execution_count": null,
   "id": "eb726128-d635-412b-8b2d-4533f6f97a6e",
   "metadata": {},
   "outputs": [],
   "source": []
  }
 ],
 "metadata": {
  "kernelspec": {
   "display_name": "ILAB Kernel (Pytorch)",
   "language": "python",
   "name": "pytorch-kernel"
  },
  "language_info": {
   "codemirror_mode": {
    "name": "ipython",
    "version": 3
   },
   "file_extension": ".py",
   "mimetype": "text/x-python",
   "name": "python",
   "nbconvert_exporter": "python",
   "pygments_lexer": "ipython3",
   "version": "3.9.15"
  }
 },
 "nbformat": 4,
 "nbformat_minor": 5
}
