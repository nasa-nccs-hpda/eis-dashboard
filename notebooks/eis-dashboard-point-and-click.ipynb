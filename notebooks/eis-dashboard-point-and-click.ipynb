{
 "cells": [
  {
   "cell_type": "code",
   "execution_count": 1,
   "id": "f07e8e64-8ed1-4bfe-9b1d-9dab1cc69bc6",
   "metadata": {},
   "outputs": [],
   "source": [
    "%load_ext autoreload\n",
    "%autoreload 2"
   ]
  },
  {
   "cell_type": "code",
   "execution_count": 9,
   "id": "4663a73a-b54a-4dbb-b699-a7f75730a177",
   "metadata": {},
   "outputs": [],
   "source": [
    "import sys\n",
    "\n",
    "sys.path.append('../../swot-dashboard')\n",
    "\n",
    "from swotdashboard.model.pointAndClickDashboard import PointDashBoard"
   ]
  },
  {
   "cell_type": "code",
   "execution_count": 10,
   "id": "573d299a-333e-4bda-9f60-8827cdd3bda6",
   "metadata": {},
   "outputs": [],
   "source": [
    "import panel as pn\n",
    "pn.extension()"
   ]
  },
  {
   "cell_type": "code",
   "execution_count": 11,
   "id": "b5c18f5c-66cf-4e4b-8beb-0f41c46e6a77",
   "metadata": {},
   "outputs": [],
   "source": [
    "dashboard = PointDashBoard(config_file='../../swot-dashboard/configs/test_config.yaml')"
   ]
  },
  {
   "cell_type": "code",
   "execution_count": 12,
   "id": "d1d8205d-3876-45bd-a8b8-23bb55be1f3e",
   "metadata": {
    "tags": []
   },
   "outputs": [
    {
     "name": "stderr",
     "output_type": "stream",
     "text": [
      "WARNING:param.Accordion02184: Setting non-parameter attribute active_header_background_color=#339966 using a mechanism intended only for parameters\n"
     ]
    },
    {
     "data": {},
     "metadata": {},
     "output_type": "display_data"
    },
    {
     "data": {},
     "metadata": {},
     "output_type": "display_data"
    },
    {
     "data": {
      "application/vnd.holoviews_exec.v0+json": "",
      "text/html": [
       "<div id='1002'>\n",
       "  <div class=\"bk-root\" id=\"726a9112-3b73-49c0-b5cb-1d1ea46fd239\" data-root-id=\"1002\"></div>\n",
       "</div>\n",
       "<script type=\"application/javascript\">(function(root) {\n",
       "  function embed_document(root) {\n",
       "    var docs_json = {\"85980b64-e749-4c25-a5a1-ff7f36c07da5\":{\"defs\":[{\"extends\":null,\"module\":null,\"name\":\"ReactiveHTML1\",\"overrides\":[],\"properties\":[]},{\"extends\":null,\"module\":null,\"name\":\"FlexBox1\",\"overrides\":[],\"properties\":[{\"default\":\"flex-start\",\"kind\":null,\"name\":\"align_content\"},{\"default\":\"flex-start\",\"kind\":null,\"name\":\"align_items\"},{\"default\":\"row\",\"kind\":null,\"name\":\"flex_direction\"},{\"default\":\"wrap\",\"kind\":null,\"name\":\"flex_wrap\"},{\"default\":\"flex-start\",\"kind\":null,\"name\":\"justify_content\"}]},{\"extends\":null,\"module\":null,\"name\":\"TemplateActions1\",\"overrides\":[],\"properties\":[{\"default\":0,\"kind\":null,\"name\":\"open_modal\"},{\"default\":0,\"kind\":null,\"name\":\"close_modal\"}]},{\"extends\":null,\"module\":null,\"name\":\"MaterialTemplateActions1\",\"overrides\":[],\"properties\":[{\"default\":0,\"kind\":null,\"name\":\"open_modal\"},{\"default\":0,\"kind\":null,\"name\":\"close_modal\"}]}],\"roots\":{\"references\":[{\"attributes\":{\"css_classes\":[\"markdown\"],\"margin\":[5,5,5,5],\"name\":\"Markdown01785\",\"text\":\"&lt;h1&gt;EIS Test Dashboard&lt;/h1&gt;\",\"width\":600},\"id\":\"1005\",\"type\":\"panel.models.markup.HTML\"},{\"attributes\":{\"source\":{\"id\":\"1156\"}},\"id\":\"1163\",\"type\":\"CDSView\"},{\"attributes\":{},\"id\":\"1100\",\"type\":\"YearsTicker\"},{\"attributes\":{\"axis\":{\"id\":\"1139\"},\"coordinates\":null,\"dimension\":1,\"group\":null,\"ticker\":{\"id\":\"1140\"}},\"id\":\"1142\",\"type\":\"Grid\"},{\"attributes\":{\"base\":24,\"mantissas\":[1,2,4,6,8,12],\"max_interval\":43200000.0,\"min_interval\":3600000.0,\"num_minor_ticks\":0},\"id\":\"1185\",\"type\":\"AdaptiveTicker\"},{\"attributes\":{},\"id\":\"1133\",\"type\":\"LinearScale\"},{\"attributes\":{},\"id\":\"1131\",\"type\":\"LinearScale\"},{\"attributes\":{\"children\":[{\"id\":\"1013\"}],\"css_classes\":[\"card-header-row\"],\"margin\":[0,0,0,0],\"name\":\"Row02207\",\"sizing_mode\":\"stretch_width\"},\"id\":\"1012\",\"type\":\"Row\"},{\"attributes\":{\"end\":1679702400000.0,\"reset_end\":1679702400000.0,\"reset_start\":1677628800000.0,\"start\":1677628800000.0,\"tags\":[[[\"time\",\"time\",null]]]},\"id\":\"1029\",\"type\":\"Range1d\"},{\"attributes\":{\"axis\":{\"id\":\"1045\"},\"coordinates\":null,\"dimension\":1,\"group\":null,\"ticker\":{\"id\":\"1046\"}},\"id\":\"1048\",\"type\":\"Grid\"},{\"attributes\":{\"children\":[{\"id\":\"1004\"}],\"margin\":[0,0,0,0],\"name\":\"Row01790\"},\"id\":\"1003\",\"type\":\"Row\"},{\"attributes\":{\"bundle\":{\"spec\":{\"model_id\":\"09ef9950081c4b98a0b9b26cfd77d982\",\"version_major\":2,\"version_minor\":0},\"state\":{\"state\":{\"0167e1d282b3458799f68c619ad5f9de\":{\"model_module\":\"jupyter-leaflet\",\"model_module_version\":\"^0.17\",\"model_name\":\"LeafletMapStyleModel\",\"state\":{\"cursor\":\"move\"}},\"09ef9950081c4b98a0b9b26cfd77d982\":{\"model_module\":\"jupyter-leaflet\",\"model_module_version\":\"^0.17\",\"model_name\":\"LeafletMapModel\",\"state\":{\"_dom_classes\":[],\"center\":[37.6069,-120.8762],\"controls\":[\"IPY_MODEL_7aa74b9ce08e4af496bc2dfa99845745\",\"IPY_MODEL_ce1525876e7b47c78a25db834a164fba\"],\"crs\":{\"custom\":false,\"name\":\"EPSG3857\"},\"default_style\":\"IPY_MODEL_29820548898c4f78b126a96c7cb5a510\",\"dragging_style\":\"IPY_MODEL_0167e1d282b3458799f68c619ad5f9de\",\"layers\":[\"IPY_MODEL_5097b8da948f4ed59e9f8eb0c99edbae\",\"IPY_MODEL_2d073cc32aee4031a16a9578791d0729\"],\"layout\":\"IPY_MODEL_cb9e3aa296c74982a99bfcb743fd0618\",\"options\":[\"bounce_at_zoom_limits\",\"box_zoom\",\"center\",\"close_popup_on_click\",\"double_click_zoom\",\"dragging\",\"fullscreen\",\"inertia\",\"inertia_deceleration\",\"inertia_max_speed\",\"interpolation\",\"keyboard\",\"keyboard_pan_offset\",\"keyboard_zoom_offset\",\"max_zoom\",\"min_zoom\",\"prefer_canvas\",\"scroll_wheel_zoom\",\"tap\",\"tap_tolerance\",\"touch_zoom\",\"world_copy_jump\",\"zoom\",\"zoom_animation_threshold\",\"zoom_delta\",\"zoom_snap\"],\"panes\":{},\"scroll_wheel_zoom\":true,\"style\":\"IPY_MODEL_65dc0dadd4a74bc791efee735c318020\",\"zoom\":5.0}},\"29820548898c4f78b126a96c7cb5a510\":{\"model_module\":\"jupyter-leaflet\",\"model_module_version\":\"^0.17\",\"model_name\":\"LeafletMapStyleModel\",\"state\":{}},\"2d073cc32aee4031a16a9578791d0729\":{\"model_module\":\"jupyter-leaflet\",\"model_module_version\":\"^0.17\",\"model_name\":\"LeafletMarkerModel\",\"state\":{\"location\":[37.6069,-120.8762],\"options\":[\"alt\",\"draggable\",\"keyboard\",\"rise_offset\",\"rise_on_hover\",\"rotation_angle\",\"rotation_origin\",\"title\",\"z_index_offset\"],\"subitems\":[]}},\"5097b8da948f4ed59e9f8eb0c99edbae\":{\"model_module\":\"jupyter-leaflet\",\"model_module_version\":\"^0.17\",\"model_name\":\"LeafletTileLayerModel\",\"state\":{\"attribution\":\"Tiles &copy; Esri &mdash; Source: Esri, i-cubed, USDA, USGS, AEX, GeoEye, Getmapping, Aerogrid, IGN, IGP, UPR-EGP, and the GIS User Community\",\"base\":true,\"min_zoom\":1,\"name\":\"Esri.WorldImagery\",\"options\":[\"attribution\",\"bounds\",\"detect_retina\",\"max_native_zoom\",\"max_zoom\",\"min_native_zoom\",\"min_zoom\",\"no_wrap\",\"tile_size\",\"tms\",\"zoom_offset\"],\"subitems\":[],\"url\":\"https://server.arcgisonline.com/ArcGIS/rest/services/World_Imagery/MapServer/tile/{z}/{y}/{x}\"}},\"65dc0dadd4a74bc791efee735c318020\":{\"model_module\":\"jupyter-leaflet\",\"model_module_version\":\"^0.17\",\"model_name\":\"LeafletMapStyleModel\",\"state\":{}},\"7aa74b9ce08e4af496bc2dfa99845745\":{\"model_module\":\"jupyter-leaflet\",\"model_module_version\":\"^0.17\",\"model_name\":\"LeafletZoomControlModel\",\"state\":{\"options\":[\"position\",\"zoom_in_text\",\"zoom_in_title\",\"zoom_out_text\",\"zoom_out_title\"]}},\"cb9e3aa296c74982a99bfcb743fd0618\":{\"model_module\":\"@jupyter-widgets/base\",\"model_module_version\":\"2.0.0\",\"model_name\":\"LayoutModel\",\"state\":{\"height\":\"400px\",\"width\":\"800px\"}},\"ce1525876e7b47c78a25db834a164fba\":{\"model_module\":\"jupyter-leaflet\",\"model_module_version\":\"^0.17\",\"model_name\":\"LeafletAttributionControlModel\",\"state\":{\"options\":[\"position\",\"prefix\"],\"position\":\"bottomright\"}}},\"version_major\":2,\"version_minor\":0}},\"margin\":[5,5,5,5],\"sizing_mode\":\"stretch_width\"},\"id\":\"1020\",\"type\":\"panel.models.ipywidget.IPyWidget\"},{\"attributes\":{},\"id\":\"1144\",\"type\":\"PanTool\"},{\"attributes\":{},\"id\":\"1051\",\"type\":\"WheelZoomTool\"},{\"attributes\":{\"children\":[{\"id\":\"1028\"}],\"margin\":[0,0,0,0],\"name\":\"Column01791\"},\"id\":\"1027\",\"type\":\"Column\"},{\"attributes\":{},\"id\":\"1073\",\"type\":\"AllLabels\"},{\"attributes\":{\"children\":[{\"id\":\"1008\"},{\"id\":\"1018\"}],\"margin\":[0,0,0,0],\"name\":\"Row02203\"},\"id\":\"1007\",\"type\":\"Row\"},{\"attributes\":{},\"id\":\"1075\",\"type\":\"BasicTickFormatter\"},{\"attributes\":{},\"id\":\"1046\",\"type\":\"BasicTicker\"},{\"attributes\":{\"css_classes\":[\"card-title\"],\"margin\":[5,0,5,0],\"name\":\"HTML02209\",\"sizing_mode\":\"stretch_width\",\"text\":\"Basemap Type\"},\"id\":\"1013\",\"type\":\"panel.models.markup.HTML\"},{\"attributes\":{},\"id\":\"1194\",\"type\":\"YearsTicker\"},{\"attributes\":{\"background\":\"WhiteSmoke\",\"children\":[{\"id\":\"1003\"},{\"id\":\"1007\"}],\"margin\":[0,0,0,0],\"name\":\"Column02204\"},\"id\":\"1002\",\"type\":\"Column\"},{\"attributes\":{},\"id\":\"1143\",\"type\":\"SaveTool\"},{\"attributes\":{\"overlay\":{\"id\":\"1148\"}},\"id\":\"1146\",\"type\":\"BoxZoomTool\"},{\"attributes\":{},\"id\":\"1049\",\"type\":\"SaveTool\"},{\"attributes\":{\"months\":[0,1,2,3,4,5,6,7,8,9,10,11]},\"id\":\"1190\",\"type\":\"MonthsTicker\"},{\"attributes\":{},\"id\":\"1169\",\"type\":\"BasicTickFormatter\"},{\"attributes\":{},\"id\":\"1147\",\"type\":\"ResetTool\"},{\"attributes\":{\"children\":[[{\"id\":\"1032\"},0,0,1,1],[{\"id\":\"1126\"},0,1,1,1]],\"margin\":[0,0,0,0],\"name\":\"GridBox01792\"},\"id\":\"1028\",\"type\":\"GridBox\"},{\"attributes\":{\"bottom_units\":\"screen\",\"coordinates\":null,\"fill_alpha\":0.5,\"fill_color\":\"lightgrey\",\"group\":null,\"left_units\":\"screen\",\"level\":\"overlay\",\"line_alpha\":1.0,\"line_color\":\"black\",\"line_dash\":[4,4],\"line_width\":2,\"right_units\":\"screen\",\"syncable\":false,\"top_units\":\"screen\"},\"id\":\"1054\",\"type\":\"BoxAnnotation\"},{\"attributes\":{\"callback\":null,\"formatters\":{\"@{time}\":\"datetime\"},\"renderers\":[{\"id\":\"1162\"}],\"tags\":[\"hv_created\"],\"tooltips\":[[\"time\",\"@{time}{%F %T}\"],[\"Dust Extinction AOT [550 nm] (1)\",\"@{DUEXTTAU}\"]]},\"id\":\"1125\",\"type\":\"HoverTool\"},{\"attributes\":{\"children\":[{\"id\":\"1027\"}],\"margin\":[0,0,0,0],\"name\":\"Column02183\"},\"id\":\"1026\",\"type\":\"Column\"},{\"attributes\":{\"line_color\":\"purple\",\"line_width\":2,\"x\":{\"field\":\"time\"},\"y\":{\"field\":\"DUEXTTAU\"}},\"id\":\"1159\",\"type\":\"Line\"},{\"attributes\":{\"days\":[1,2,3,4,5,6,7,8,9,10,11,12,13,14,15,16,17,18,19,20,21,22,23,24,25,26,27,28,29,30,31]},\"id\":\"1092\",\"type\":\"DaysTicker\"},{\"attributes\":{\"children\":[{\"id\":\"1025\"}],\"css_classes\":[\"card-header-row\"],\"margin\":[0,0,0,0],\"name\":\"Row02189\",\"sizing_mode\":\"stretch_width\"},\"id\":\"1024\",\"type\":\"Row\"},{\"attributes\":{\"source\":{\"id\":\"1062\"}},\"id\":\"1069\",\"type\":\"CDSView\"},{\"attributes\":{\"end\":0.2223446249961853,\"reset_end\":0.2223446249961853,\"reset_start\":-0.0004711609333753579,\"start\":-0.0004711609333753579,\"tags\":[[[\"DUEXTTAU\",\"Dust Extinction AOT [550 nm]\",\"1\"]]]},\"id\":\"1124\",\"type\":\"Range1d\"},{\"attributes\":{},\"id\":\"1076\",\"type\":\"AllLabels\"},{\"attributes\":{\"coordinates\":null,\"group\":null,\"text\":\"lon = -5.92e-13 [degrees_east], lat = -1.798e-1...\",\"text_color\":\"black\",\"text_font_size\":\"12pt\"},\"id\":\"1033\",\"type\":\"Title\"},{\"attributes\":{\"axis_label\":\"Dust Extinction AOT [550 nm] (1)\",\"coordinates\":null,\"formatter\":{\"id\":\"1169\"},\"group\":null,\"major_label_policy\":{\"id\":\"1170\"},\"ticker\":{\"id\":\"1140\"}},\"id\":\"1139\",\"type\":\"LinearAxis\"},{\"attributes\":{\"axis_label\":\"Black Carbon Surface Mass Concentration (kg m-3)\",\"coordinates\":null,\"formatter\":{\"id\":\"1075\"},\"group\":null,\"major_label_policy\":{\"id\":\"1076\"},\"ticker\":{\"id\":\"1046\"}},\"id\":\"1045\",\"type\":\"LinearAxis\"},{\"attributes\":{\"base\":24,\"mantissas\":[1,2,4,6,8,12],\"max_interval\":43200000.0,\"min_interval\":3600000.0,\"num_minor_ticks\":0},\"id\":\"1091\",\"type\":\"AdaptiveTicker\"},{\"attributes\":{\"active_header_background\":\"#ccc\",\"button_css_classes\":[\"card-button\"],\"children\":[{\"id\":\"1012\"},{\"id\":\"1014\"}],\"css_classes\":[\"accordion\"],\"header_background\":\"#0059b3\",\"header_color\":\"white\",\"header_css_classes\":[\"accordion-header\"],\"margin\":[5,5,0,5],\"name\":\"Card02208\"},\"id\":\"1011\",\"type\":\"panel.models.layout.Card\"},{\"attributes\":{\"line_alpha\":0.2,\"line_color\":\"crimson\",\"line_width\":2,\"x\":{\"field\":\"time\"},\"y\":{\"field\":\"BCSMASS\"}},\"id\":\"1067\",\"type\":\"Line\"},{\"attributes\":{},\"id\":\"1157\",\"type\":\"Selection\"},{\"attributes\":{\"months\":[0,2,4,6,8,10]},\"id\":\"1191\",\"type\":\"MonthsTicker\"},{\"attributes\":{\"css_classes\":[\"card-title\"],\"margin\":[5,0,5,0],\"name\":\"HTML02191\",\"sizing_mode\":\"stretch_width\",\"text\":\"&amp;#8203;\"},\"id\":\"1025\",\"type\":\"panel.models.markup.HTML\"},{\"attributes\":{\"days\":[1,4,7,10,13,16,19,22,25,28]},\"id\":\"1093\",\"type\":\"DaysTicker\"},{\"attributes\":{\"tools\":[{\"id\":\"1125\"},{\"id\":\"1143\"},{\"id\":\"1144\"},{\"id\":\"1145\"},{\"id\":\"1146\"},{\"id\":\"1147\"}]},\"id\":\"1149\",\"type\":\"Toolbar\"},{\"attributes\":{},\"id\":\"1050\",\"type\":\"PanTool\"},{\"attributes\":{\"axis_label\":\"time\",\"coordinates\":null,\"formatter\":{\"id\":\"1072\"},\"group\":null,\"major_label_policy\":{\"id\":\"1073\"},\"ticker\":{\"id\":\"1042\"}},\"id\":\"1041\",\"type\":\"DatetimeAxis\"},{\"attributes\":{\"data\":{\"BCSMASS\":{\"__ndarray__\":\"DWrmLyCJ1i+c5xkw5Ef1L62Q0C/V3aYvHM9+LwW4ji9BO6wv00KxL+4kHy/H/jMvD6HALutSwi4YkYYuEVKfLkjcZS5LNIQutPvxLtMWMi9bLqsut9K1LufXAC/kUM8uPO6cLg==\",\"dtype\":\"float32\",\"order\":\"little\",\"shape\":[25]},\"time\":{\"__ndarray__\":\"AADAf6dpeEIAAIDl+Wl4QgAAQEtManhCAAAAsZ5qeEIAAMAW8Wp4QgAAgHxDa3hCAABA4pVreEIAAABI6Gt4QgAAwK06bHhCAACAE41seEIAAEB532x4QgAAAN8xbXhCAADARIRteEIAAICq1m14QgAAQBApbnhCAAAAdntueEIAAMDbzW54QgAAgEEgb3hCAABAp3JveEIAAAANxW94QgAAwHIXcHhCAACA2GlweEIAAEA+vHB4QgAAAKQOcXhCAADACWFxeEI=\",\"dtype\":\"float64\",\"order\":\"little\",\"shape\":[25]}},\"selected\":{\"id\":\"1063\"},\"selection_policy\":{\"id\":\"1086\"}},\"id\":\"1062\",\"type\":\"ColumnDataSource\"},{\"attributes\":{\"mantissas\":[1,2,5],\"max_interval\":500.0,\"num_minor_ticks\":0},\"id\":\"1183\",\"type\":\"AdaptiveTicker\"},{\"attributes\":{\"line_alpha\":0.2,\"line_color\":\"purple\",\"line_width\":2,\"x\":{\"field\":\"time\"},\"y\":{\"field\":\"DUEXTTAU\"}},\"id\":\"1161\",\"type\":\"Line\"},{\"attributes\":{\"css_classes\":[\"markdown\"],\"margin\":[5,5,5,5],\"name\":\"Markdown02198\",\"text\":\"&lt;h2&gt;Point Selected: (0, 0)&lt;/h2&gt;\",\"width\":400},\"id\":\"1022\",\"type\":\"panel.models.markup.HTML\"},{\"attributes\":{\"below\":[{\"id\":\"1135\"}],\"center\":[{\"id\":\"1138\"},{\"id\":\"1142\"}],\"height\":300,\"left\":[{\"id\":\"1139\"}],\"margin\":[5,5,5,5],\"min_border_bottom\":10,\"min_border_left\":10,\"min_border_right\":10,\"min_border_top\":10,\"renderers\":[{\"id\":\"1162\"}],\"sizing_mode\":\"fixed\",\"title\":{\"id\":\"1127\"},\"toolbar\":{\"id\":\"1149\"},\"width\":700,\"x_range\":{\"id\":\"1029\"},\"x_scale\":{\"id\":\"1131\"},\"y_range\":{\"id\":\"1124\"},\"y_scale\":{\"id\":\"1133\"}},\"id\":\"1126\",\"subtype\":\"Figure\",\"type\":\"Plot\"},{\"attributes\":{\"children\":[{\"id\":\"1009\"},{\"id\":\"1010\"},{\"id\":\"1015\"},{\"id\":\"1016\"},{\"id\":\"1017\"}],\"css_classes\":[\"panel-widget-box\"],\"height\":800,\"margin\":[5,5,5,5],\"min_height\":800,\"name\":\"WidgetBox02185\"},\"id\":\"1008\",\"type\":\"Column\"},{\"attributes\":{\"button_type\":\"success\",\"icon\":null,\"label\":\"Export to time series to CSV\",\"margin\":[5,10,5,10],\"subscribed_events\":[\"button_click\"]},\"id\":\"1017\",\"type\":\"Button\"},{\"attributes\":{\"axis\":{\"id\":\"1135\"},\"coordinates\":null,\"group\":null,\"ticker\":{\"id\":\"1136\"}},\"id\":\"1138\",\"type\":\"Grid\"},{\"attributes\":{\"days\":[1,15]},\"id\":\"1189\",\"type\":\"DaysTicker\"},{\"attributes\":{\"months\":[0,2,4,6,8,10]},\"id\":\"1097\",\"type\":\"MonthsTicker\"},{\"attributes\":{\"base\":60,\"mantissas\":[1,2,5,10,15,20,30],\"max_interval\":1800000.0,\"min_interval\":1000.0,\"num_minor_ticks\":0},\"id\":\"1184\",\"type\":\"AdaptiveTicker\"},{\"attributes\":{\"months\":[0,1,2,3,4,5,6,7,8,9,10,11]},\"id\":\"1096\",\"type\":\"MonthsTicker\"},{\"attributes\":{},\"id\":\"1086\",\"type\":\"UnionRenderers\"},{\"attributes\":{},\"id\":\"1037\",\"type\":\"LinearScale\"},{\"attributes\":{},\"id\":\"1166\",\"type\":\"DatetimeTickFormatter\"},{\"attributes\":{\"bottom_units\":\"screen\",\"coordinates\":null,\"fill_alpha\":0.5,\"fill_color\":\"lightgrey\",\"group\":null,\"left_units\":\"screen\",\"level\":\"overlay\",\"line_alpha\":1.0,\"line_color\":\"black\",\"line_dash\":[4,4],\"line_width\":2,\"right_units\":\"screen\",\"syncable\":false,\"top_units\":\"screen\"},\"id\":\"1148\",\"type\":\"BoxAnnotation\"},{\"attributes\":{\"active\":1,\"button_type\":\"success\",\"labels\":[\"OSM\",\"ESRI\"],\"margin\":[5,10,5,10]},\"id\":\"1014\",\"type\":\"RadioButtonGroup\"},{\"attributes\":{\"axis_label\":\"time\",\"coordinates\":null,\"formatter\":{\"id\":\"1166\"},\"group\":null,\"major_label_policy\":{\"id\":\"1167\"},\"ticker\":{\"id\":\"1136\"}},\"id\":\"1135\",\"type\":\"DatetimeAxis\"},{\"attributes\":{\"disabled\":true,\"margin\":[5,10,5,10],\"max_length\":5000,\"title\":\"Time Step\",\"value\":\"7D\"},\"id\":\"1015\",\"type\":\"TextInput\"},{\"attributes\":{\"line_color\":\"crimson\",\"line_width\":2,\"x\":{\"field\":\"time\"},\"y\":{\"field\":\"BCSMASS\"}},\"id\":\"1070\",\"type\":\"Line\"},{\"attributes\":{\"children\":[{\"id\":\"1011\"}],\"margin\":[0,0,0,0],\"name\":\"Accordion02184\"},\"id\":\"1010\",\"type\":\"Column\"},{\"attributes\":{\"num_minor_ticks\":5,\"tickers\":[{\"id\":\"1183\"},{\"id\":\"1184\"},{\"id\":\"1185\"},{\"id\":\"1186\"},{\"id\":\"1187\"},{\"id\":\"1188\"},{\"id\":\"1189\"},{\"id\":\"1190\"},{\"id\":\"1191\"},{\"id\":\"1192\"},{\"id\":\"1193\"},{\"id\":\"1194\"}]},\"id\":\"1136\",\"type\":\"DatetimeTicker\"},{\"attributes\":{\"active_header_background\":\"\",\"button_css_classes\":[\"card-button\"],\"children\":[{\"id\":\"1024\"},{\"id\":\"1026\"}],\"collapsed\":false,\"css_classes\":[\"card\"],\"header_background\":\"\",\"header_color\":\"\",\"header_css_classes\":[\"card-header\"],\"margin\":[5,5,5,5],\"name\":\"Card02190\"},\"id\":\"1023\",\"type\":\"panel.models.layout.Card\"},{\"attributes\":{\"coordinates\":null,\"data_source\":{\"id\":\"1156\"},\"glyph\":{\"id\":\"1159\"},\"group\":null,\"hover_glyph\":null,\"muted_glyph\":{\"id\":\"1161\"},\"nonselection_glyph\":{\"id\":\"1160\"},\"selection_glyph\":{\"id\":\"1164\"},\"view\":{\"id\":\"1163\"}},\"id\":\"1162\",\"type\":\"GlyphRenderer\"},{\"attributes\":{\"data\":{\"DUEXTTAU\":{\"__ndarray__\":\"HYQ5PizWPT7TqlA+XHXZPeveyj2ERoY9HQplPYPo2D3tIN89vicBPhcoSD7v8uI9FIy5Pfg3wT3JFnQ9b9acPddMlj2FxYY9f510Pbjtcz3BySQ9MGruPHNSzTypYJc8yT+UPA==\",\"dtype\":\"float32\",\"order\":\"little\",\"shape\":[25]},\"time\":{\"__ndarray__\":\"AADAf6dpeEIAAIDl+Wl4QgAAQEtManhCAAAAsZ5qeEIAAMAW8Wp4QgAAgHxDa3hCAABA4pVreEIAAABI6Gt4QgAAwK06bHhCAACAE41seEIAAEB532x4QgAAAN8xbXhCAADARIRteEIAAICq1m14QgAAQBApbnhCAAAAdntueEIAAMDbzW54QgAAgEEgb3hCAABAp3JveEIAAAANxW94QgAAwHIXcHhCAACA2GlweEIAAEA+vHB4QgAAAKQOcXhCAADACWFxeEI=\",\"dtype\":\"float64\",\"order\":\"little\",\"shape\":[25]}},\"selected\":{\"id\":\"1157\"},\"selection_policy\":{\"id\":\"1180\"}},\"id\":\"1156\",\"type\":\"ColumnDataSource\"},{\"attributes\":{\"months\":[0,6]},\"id\":\"1099\",\"type\":\"MonthsTicker\"},{\"attributes\":{\"callback\":null,\"formatters\":{\"@{time}\":\"datetime\"},\"renderers\":[{\"id\":\"1068\"}],\"tags\":[\"hv_created\"],\"tooltips\":[[\"time\",\"@{time}{%F %T}\"],[\"Black Carbon Surface Mass Concentration (kg m-3)\",\"@{BCSMASS}\"]]},\"id\":\"1031\",\"type\":\"HoverTool\"},{\"attributes\":{\"num_minor_ticks\":5,\"tickers\":[{\"id\":\"1089\"},{\"id\":\"1090\"},{\"id\":\"1091\"},{\"id\":\"1092\"},{\"id\":\"1093\"},{\"id\":\"1094\"},{\"id\":\"1095\"},{\"id\":\"1096\"},{\"id\":\"1097\"},{\"id\":\"1098\"},{\"id\":\"1099\"},{\"id\":\"1100\"}]},\"id\":\"1042\",\"type\":\"DatetimeTicker\"},{\"attributes\":{},\"id\":\"1063\",\"type\":\"Selection\"},{\"attributes\":{\"children\":[{\"id\":\"1020\"}],\"margin\":[0,0,0,0],\"min_height\":400,\"name\":\"Row02188\"},\"id\":\"1019\",\"type\":\"Row\"},{\"attributes\":{\"axis\":{\"id\":\"1041\"},\"coordinates\":null,\"group\":null,\"ticker\":{\"id\":\"1042\"}},\"id\":\"1044\",\"type\":\"Grid\"},{\"attributes\":{\"days\":[1,2,3,4,5,6,7,8,9,10,11,12,13,14,15,16,17,18,19,20,21,22,23,24,25,26,27,28,29,30,31]},\"id\":\"1186\",\"type\":\"DaysTicker\"},{\"attributes\":{\"margin\":[5,10,5,10],\"options\":[\"BCSMASS\",\"DUEXTTAU\",\"SSCMASS\",\"SUFLUXU\",\"SUSCATAU\"],\"placeholder\":\"\",\"title\":\"Time Series Variables\",\"value\":[\"BCSMASS\",\"DUEXTTAU\"]},\"id\":\"1016\",\"type\":\"MultiChoice\"},{\"attributes\":{\"below\":[{\"id\":\"1041\"}],\"center\":[{\"id\":\"1044\"},{\"id\":\"1048\"}],\"height\":300,\"left\":[{\"id\":\"1045\"}],\"margin\":[5,5,5,5],\"min_border_bottom\":10,\"min_border_left\":10,\"min_border_right\":10,\"min_border_top\":10,\"renderers\":[{\"id\":\"1068\"}],\"sizing_mode\":\"fixed\",\"title\":{\"id\":\"1033\"},\"toolbar\":{\"id\":\"1055\"},\"width\":700,\"x_range\":{\"id\":\"1029\"},\"x_scale\":{\"id\":\"1037\"},\"y_range\":{\"id\":\"1030\"},\"y_scale\":{\"id\":\"1039\"}},\"id\":\"1032\",\"subtype\":\"Figure\",\"type\":\"Plot\"},{\"attributes\":{\"months\":[0,4,8]},\"id\":\"1192\",\"type\":\"MonthsTicker\"},{\"attributes\":{},\"id\":\"1167\",\"type\":\"AllLabels\"},{\"attributes\":{},\"id\":\"1140\",\"type\":\"BasicTicker\"},{\"attributes\":{\"children\":[{\"id\":\"1022\"}],\"margin\":[0,0,0,0],\"name\":\"Row02197\"},\"id\":\"1021\",\"type\":\"Row\"},{\"attributes\":{},\"id\":\"1145\",\"type\":\"WheelZoomTool\"},{\"attributes\":{\"tools\":[{\"id\":\"1031\"},{\"id\":\"1049\"},{\"id\":\"1050\"},{\"id\":\"1051\"},{\"id\":\"1052\"},{\"id\":\"1053\"}]},\"id\":\"1055\",\"type\":\"Toolbar\"},{\"attributes\":{\"line_color\":\"crimson\",\"line_width\":2,\"x\":{\"field\":\"time\"},\"y\":{\"field\":\"BCSMASS\"}},\"id\":\"1065\",\"type\":\"Line\"},{\"attributes\":{\"days\":[1,8,15,22]},\"id\":\"1094\",\"type\":\"DaysTicker\"},{\"attributes\":{\"line_color\":\"purple\",\"line_width\":2,\"x\":{\"field\":\"time\"},\"y\":{\"field\":\"DUEXTTAU\"}},\"id\":\"1164\",\"type\":\"Line\"},{\"attributes\":{\"base\":60,\"mantissas\":[1,2,5,10,15,20,30],\"max_interval\":1800000.0,\"min_interval\":1000.0,\"num_minor_ticks\":0},\"id\":\"1090\",\"type\":\"AdaptiveTicker\"},{\"attributes\":{},\"id\":\"1180\",\"type\":\"UnionRenderers\"},{\"attributes\":{\"children\":[{\"id\":\"1005\"},{\"id\":\"1006\"}],\"margin\":[0,0,0,0],\"name\":\"Column01789\"},\"id\":\"1004\",\"type\":\"Column\"},{\"attributes\":{},\"id\":\"1072\",\"type\":\"DatetimeTickFormatter\"},{\"attributes\":{\"client_comm_id\":\"6717ecc0fecf4df9bac6929d10041e62\",\"comm_id\":\"7a47cbad2f5e47ed86de5379608d9f15\",\"plot_id\":\"1002\"},\"id\":\"1349\",\"type\":\"panel.models.comm_manager.CommManager\"},{\"attributes\":{\"end\":6.106659178328755e-10,\"reset_end\":6.106659178328755e-10,\"reset_start\":1.5004275599750333e-12,\"start\":1.5004275599750333e-12,\"tags\":[[[\"BCSMASS\",\"Black Carbon Surface Mass Concentration\",\"kg m-3\"]]]},\"id\":\"1030\",\"type\":\"Range1d\"},{\"attributes\":{\"days\":[1,15]},\"id\":\"1095\",\"type\":\"DaysTicker\"},{\"attributes\":{\"days\":[1,4,7,10,13,16,19,22,25,28]},\"id\":\"1187\",\"type\":\"DaysTicker\"},{\"attributes\":{\"line_alpha\":0.1,\"line_color\":\"crimson\",\"line_width\":2,\"x\":{\"field\":\"time\"},\"y\":{\"field\":\"BCSMASS\"}},\"id\":\"1066\",\"type\":\"Line\"},{\"attributes\":{\"reload\":false},\"id\":\"1482\",\"type\":\"panel.models.location.Location\"},{\"attributes\":{},\"id\":\"1170\",\"type\":\"AllLabels\"},{\"attributes\":{},\"id\":\"1039\",\"type\":\"LinearScale\"},{\"attributes\":{\"css_classes\":[\"markdown\"],\"margin\":[5,5,5,5],\"name\":\"Markdown01787\",\"text\":\"&lt;h2&gt;EIS test subtitle&lt;/h2&gt;\"},\"id\":\"1006\",\"type\":\"panel.models.markup.HTML\"},{\"attributes\":{\"months\":[0,4,8]},\"id\":\"1098\",\"type\":\"MonthsTicker\"},{\"attributes\":{\"coordinates\":null,\"group\":null,\"text\":\"lon = -5.92e-13 [degrees_east], lat = -1.798e-1...\",\"text_color\":\"black\",\"text_font_size\":\"12pt\"},\"id\":\"1127\",\"type\":\"Title\"},{\"attributes\":{},\"id\":\"1053\",\"type\":\"ResetTool\"},{\"attributes\":{\"mantissas\":[1,2,5],\"max_interval\":500.0,\"num_minor_ticks\":0},\"id\":\"1089\",\"type\":\"AdaptiveTicker\"},{\"attributes\":{\"active\":0,\"button_type\":\"success\",\"labels\":[\"Daily\",\"Time Averaged\"],\"margin\":[5,10,5,10]},\"id\":\"1009\",\"type\":\"RadioButtonGroup\"},{\"attributes\":{\"months\":[0,6]},\"id\":\"1193\",\"type\":\"MonthsTicker\"},{\"attributes\":{\"overlay\":{\"id\":\"1054\"}},\"id\":\"1052\",\"type\":\"BoxZoomTool\"},{\"attributes\":{\"children\":[{\"id\":\"1019\"},{\"id\":\"1021\"},{\"id\":\"1023\"}],\"margin\":[0,0,0,0],\"name\":\"Column02202\"},\"id\":\"1018\",\"type\":\"Column\"},{\"attributes\":{\"line_alpha\":0.1,\"line_color\":\"purple\",\"line_width\":2,\"x\":{\"field\":\"time\"},\"y\":{\"field\":\"DUEXTTAU\"}},\"id\":\"1160\",\"type\":\"Line\"},{\"attributes\":{\"coordinates\":null,\"data_source\":{\"id\":\"1062\"},\"glyph\":{\"id\":\"1065\"},\"group\":null,\"hover_glyph\":null,\"muted_glyph\":{\"id\":\"1067\"},\"nonselection_glyph\":{\"id\":\"1066\"},\"selection_glyph\":{\"id\":\"1070\"},\"view\":{\"id\":\"1069\"}},\"id\":\"1068\",\"type\":\"GlyphRenderer\"},{\"attributes\":{\"days\":[1,8,15,22]},\"id\":\"1188\",\"type\":\"DaysTicker\"}],\"root_ids\":[\"1002\",\"1349\",\"1482\"]},\"title\":\"Bokeh Application\",\"version\":\"2.4.3\"}};\n",
       "    var render_items = [{\"docid\":\"85980b64-e749-4c25-a5a1-ff7f36c07da5\",\"root_ids\":[\"1002\"],\"roots\":{\"1002\":\"726a9112-3b73-49c0-b5cb-1d1ea46fd239\"}}];\n",
       "    root.Bokeh.embed.embed_items_notebook(docs_json, render_items);\n",
       "  }\n",
       "  if (root.Bokeh !== undefined && root.Bokeh.Panel !== undefined) {\n",
       "    embed_document(root);\n",
       "  } else {\n",
       "    var attempts = 0;\n",
       "    var timer = setInterval(function(root) {\n",
       "      if (root.Bokeh !== undefined && root.Bokeh.Panel !== undefined) {\n",
       "        clearInterval(timer);\n",
       "        embed_document(root);\n",
       "      } else if (document.readyState == \"complete\") {\n",
       "        attempts++;\n",
       "        if (attempts > 200) {\n",
       "          clearInterval(timer);\n",
       "          console.log(\"Bokeh: ERROR: Unable to run BokehJS code because BokehJS library is missing\");\n",
       "        }\n",
       "      }\n",
       "    }, 25, root)\n",
       "  }\n",
       "})(window);</script>"
      ],
      "text/plain": [
       "Column(background='WhiteSmoke')\n",
       "    [0] Row\n",
       "        [0] Column\n",
       "            [0] Markdown(str, width=600)\n",
       "            [1] Markdown(str)\n",
       "    [1] Row\n",
       "        [0] WidgetBox(height=800)\n",
       "            [0] RadioButtonGroup(button_type='success', name='Visualization Type', options=['Daily', 'Time A...], value='Daily')\n",
       "            [1] Accordion(header_background='#0059b3', header_color='white')\n",
       "                [0] RadioButtonGroup(button_type='success', name='Base map layer', options=['OSM', 'ESRI'], value='ESRI')\n",
       "            [2] TextInput(disabled=True, name='Time Step', value='7D')\n",
       "            [3] MultiChoice(name='Time Series Variables', options=['BCSMASS', 'DUEXTTAU', ...], value=['BCSMASS', 'DUEXTTAU'])\n",
       "            [4] Button(button_type='success', name='Export to time s...)\n",
       "        [1] Column\n",
       "            [0] Row(min_height=400)\n",
       "                [0] IPyLeaflet(Map)\n",
       "            [1] ParamFunction(function)\n",
       "            [2] Card\n",
       "                [0] Column\n",
       "                    [0] Column\n",
       "                        [0] GridBox(ncols=2, nrows=2)\n",
       "                            [0] HoloViews(DynamicMap)\n",
       "                            [1] HoloViews(DynamicMap)"
      ]
     },
     "execution_count": 12,
     "metadata": {
      "application/vnd.holoviews_exec.v0+json": {
       "id": "1002"
      }
     },
     "output_type": "execute_result"
    }
   ],
   "source": [
    "dashboard.view()"
   ]
  }
 ],
 "metadata": {
  "kernelspec": {
   "display_name": "ILAB Kernel (Pytorch)",
   "language": "python",
   "name": "pytorch-kernel"
  },
  "language_info": {
   "codemirror_mode": {
    "name": "ipython",
    "version": 3
   },
   "file_extension": ".py",
   "mimetype": "text/x-python",
   "name": "python",
   "nbconvert_exporter": "python",
   "pygments_lexer": "ipython3",
   "version": "3.9.15"
  }
 },
 "nbformat": 4,
 "nbformat_minor": 5
}
