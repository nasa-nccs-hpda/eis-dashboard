{
 "cells": [
  {
   "cell_type": "markdown",
   "id": "425781e7-3da0-4f28-8aaf-ee76ea651b79",
   "metadata": {},
   "source": [
    "# EIS Point-and-Click Dashboard\n",
    "\n",
    "Version: 0.2.0\n",
    "\n",
    "Date: 09.22.23\n",
    "\n",
    "## Instructions:\n",
    "- Run all of the below code cells\n",
    "- A dashboard will be visualized, click \"Time-Series Variables\" widget to select a variable to visualize the time-series of. \n",
    "- Click on the map to update the time-series graph to show a time-series of the data selected at the point chosen.\n",
    "\n",
    "\n",
    "### Note: \n",
    "It may take some time for the variable to load into memory and be visualized. In order to keep this usable on most\n",
    "systems it is necessary to fit the data into distributed dask arrays in case the data is too large for the memory\n",
    "capacity of the system running the dashboard."
   ]
  },
  {
   "cell_type": "code",
   "execution_count": null,
   "id": "d5bb23b4-bd24-499a-8892-b9ffd821dc89",
   "metadata": {},
   "outputs": [],
   "source": [
    "%load_ext autoreload\n",
    "%autoreload 2"
   ]
  },
  {
   "cell_type": "code",
   "execution_count": null,
   "id": "036d6d9c",
   "metadata": {},
   "outputs": [],
   "source": [
    "!pip install omegaconf"
   ]
  },
  {
   "cell_type": "code",
   "execution_count": 28,
   "id": "4663a73a-b54a-4dbb-b699-a7f75730a177",
   "metadata": {},
   "outputs": [],
   "source": [
    "import sys\n",
    "\n",
    "sys.path.append('../../swot-dashboard')\n",
    "\n",
    "from swotdashboard.model.pointAndClickDashboard import PointDashBoard"
   ]
  },
  {
   "cell_type": "code",
   "execution_count": 29,
   "id": "573d299a-333e-4bda-9f60-8827cdd3bda6",
   "metadata": {},
   "outputs": [],
   "source": [
    "import panel as pn\n",
    "import hvplot.xarray\n",
    "pn.extension()"
   ]
  },
  {
   "cell_type": "code",
   "execution_count": 30,
   "id": "b5c18f5c-66cf-4e4b-8beb-0f41c46e6a77",
   "metadata": {},
   "outputs": [
    {
     "name": "stdout",
     "output_type": "stream",
     "text": [
      "(38.85, -76.55)\n",
      "<class 'float'>\n",
      "['GLDAS_NOAH025_3H']\n",
      "['GLDAS_NOAH025_3H']\n",
      "2019-05-18T00:00:00Z,2019-06-18T00:00:00Z\n",
      "{'spatialParameter': 'bounding_box', 'coords': [-76.6, 38.8, -76.5, 38.9], 'datetime': '2019-05-18T00:00:00Z,2019-06-18T00:00:00Z', 'collection_id': 'GLDAS_NOAH025_3H'}\n",
      "[{'spatialParameter': 'bounding_box', 'coords': [-76.6, 38.8, -76.5, 38.9], 'datetime': '2019-05-18T00:00:00Z,2019-06-18T00:00:00Z', 'collection_id': 'GLDAS_NOAH025_3H'}]\n",
      "Starting query\n",
      "https://cmr.earthdata.nasa.gov/search/granules.umm_json_v1_4?page_num=1&page_size=150&short_name=GLDAS_NOAH025_3H&bounding_box=-76.6%2C38.8%2C-76.5%2C38.9&day_night_flag=&temporal=2019-05-18T00%3A00%3A00Z%2C2019-06-18T00%3A00%3A00Z&online_only=true\n",
      "Results found on page: 1\n",
      "Time to get data: 3.8562028408050537\n",
      "{'GLDAS_NOAH025_3H': ['lon', 'lat', 'BCANGSTR', 'BCCMASS', 'BCEXTTAU', 'BCFLUXU', 'BCFLUXV', 'BCSCATAU', 'BCSMASS', 'DMSCMASS', 'DMSSMASS', 'DUANGSTR', 'DUCMASS', 'DUCMASS25', 'DUEXTT25', 'DUEXTTAU', 'DUFLUXU', 'DUFLUXV', 'DUSCAT25', 'DUSCATAU', 'DUSMASS', 'DUSMASS25', 'OCANGSTR', 'OCCMASS', 'OCEXTTAU', 'OCFLUXU', 'OCFLUXV', 'OCSCATAU', 'OCSMASS', 'SO2CMASS', 'SO2SMASS', 'SO4CMASS', 'SO4SMASS', 'SSANGSTR', 'SSCMASS', 'SSCMASS25', 'SSEXTT25', 'SSEXTTAU', 'SSFLUXU', 'SSFLUXV', 'SSSCAT25', 'SSSCATAU', 'SSSMASS', 'SSSMASS25', 'SUANGSTR', 'SUEXTTAU', 'SUFLUXU', 'SUFLUXV', 'SUSCATAU', 'TOTANGSTR', 'TOTEXTTAU', 'TOTSCATAU', 'time']}\n",
      "['GLDAS_NOAH025_3H:lon', 'GLDAS_NOAH025_3H:lat', 'GLDAS_NOAH025_3H:BCANGSTR', 'GLDAS_NOAH025_3H:BCCMASS', 'GLDAS_NOAH025_3H:BCEXTTAU', 'GLDAS_NOAH025_3H:BCFLUXU', 'GLDAS_NOAH025_3H:BCFLUXV', 'GLDAS_NOAH025_3H:BCSCATAU', 'GLDAS_NOAH025_3H:BCSMASS', 'GLDAS_NOAH025_3H:DMSCMASS', 'GLDAS_NOAH025_3H:DMSSMASS', 'GLDAS_NOAH025_3H:DUANGSTR', 'GLDAS_NOAH025_3H:DUCMASS', 'GLDAS_NOAH025_3H:DUCMASS25', 'GLDAS_NOAH025_3H:DUEXTT25', 'GLDAS_NOAH025_3H:DUEXTTAU', 'GLDAS_NOAH025_3H:DUFLUXU', 'GLDAS_NOAH025_3H:DUFLUXV', 'GLDAS_NOAH025_3H:DUSCAT25', 'GLDAS_NOAH025_3H:DUSCATAU', 'GLDAS_NOAH025_3H:DUSMASS', 'GLDAS_NOAH025_3H:DUSMASS25', 'GLDAS_NOAH025_3H:OCANGSTR', 'GLDAS_NOAH025_3H:OCCMASS', 'GLDAS_NOAH025_3H:OCEXTTAU', 'GLDAS_NOAH025_3H:OCFLUXU', 'GLDAS_NOAH025_3H:OCFLUXV', 'GLDAS_NOAH025_3H:OCSCATAU', 'GLDAS_NOAH025_3H:OCSMASS', 'GLDAS_NOAH025_3H:SO2CMASS', 'GLDAS_NOAH025_3H:SO2SMASS', 'GLDAS_NOAH025_3H:SO4CMASS', 'GLDAS_NOAH025_3H:SO4SMASS', 'GLDAS_NOAH025_3H:SSANGSTR', 'GLDAS_NOAH025_3H:SSCMASS', 'GLDAS_NOAH025_3H:SSCMASS25', 'GLDAS_NOAH025_3H:SSEXTT25', 'GLDAS_NOAH025_3H:SSEXTTAU', 'GLDAS_NOAH025_3H:SSFLUXU', 'GLDAS_NOAH025_3H:SSFLUXV', 'GLDAS_NOAH025_3H:SSSCAT25', 'GLDAS_NOAH025_3H:SSSCATAU', 'GLDAS_NOAH025_3H:SSSMASS', 'GLDAS_NOAH025_3H:SSSMASS25', 'GLDAS_NOAH025_3H:SUANGSTR', 'GLDAS_NOAH025_3H:SUEXTTAU', 'GLDAS_NOAH025_3H:SUFLUXU', 'GLDAS_NOAH025_3H:SUFLUXV', 'GLDAS_NOAH025_3H:SUSCATAU', 'GLDAS_NOAH025_3H:TOTANGSTR', 'GLDAS_NOAH025_3H:TOTEXTTAU', 'GLDAS_NOAH025_3H:TOTSCATAU', 'GLDAS_NOAH025_3H:time']\n"
     ]
    }
   ],
   "source": [
    "dashboard = PointDashBoard(config_file='../../swot-dashboard/configs/test_config.yaml')"
   ]
  },
  {
   "cell_type": "code",
   "execution_count": 31,
   "id": "d1d8205d-3876-45bd-a8b8-23bb55be1f3e",
   "metadata": {
    "tags": []
   },
   "outputs": [
    {
     "data": {},
     "metadata": {},
     "output_type": "display_data"
    },
    {
     "data": {
      "application/vnd.holoviews_exec.v0+json": "",
      "text/html": [
       "<div id='4825'>\n",
       "  <div class=\"bk-root\" id=\"70e12cab-3831-4830-82f2-1e6d018a5232\" data-root-id=\"4825\"></div>\n",
       "</div>\n",
       "<script type=\"application/javascript\">(function(root) {\n",
       "  function embed_document(root) {\n",
       "    var docs_json = {\"ea5444b8-c5cc-4e84-9bbc-3a77d7e14206\":{\"defs\":[{\"extends\":null,\"module\":null,\"name\":\"ReactiveHTML1\",\"overrides\":[],\"properties\":[]},{\"extends\":null,\"module\":null,\"name\":\"FlexBox1\",\"overrides\":[],\"properties\":[{\"default\":\"flex-start\",\"kind\":null,\"name\":\"align_content\"},{\"default\":\"flex-start\",\"kind\":null,\"name\":\"align_items\"},{\"default\":\"row\",\"kind\":null,\"name\":\"flex_direction\"},{\"default\":\"wrap\",\"kind\":null,\"name\":\"flex_wrap\"},{\"default\":\"flex-start\",\"kind\":null,\"name\":\"justify_content\"}]},{\"extends\":null,\"module\":null,\"name\":\"TemplateActions1\",\"overrides\":[],\"properties\":[{\"default\":0,\"kind\":null,\"name\":\"open_modal\"},{\"default\":0,\"kind\":null,\"name\":\"close_modal\"}]},{\"extends\":null,\"module\":null,\"name\":\"MaterialTemplateActions1\",\"overrides\":[],\"properties\":[{\"default\":0,\"kind\":null,\"name\":\"open_modal\"},{\"default\":0,\"kind\":null,\"name\":\"close_modal\"}]}],\"roots\":{\"references\":[{\"attributes\":{\"active_header_background\":\"\",\"button_css_classes\":[\"card-button\"],\"children\":[{\"id\":\"4848\"},{\"id\":\"4850\"}],\"collapsed\":false,\"css_classes\":[\"card\"],\"header_background\":\"\",\"header_color\":\"\",\"header_css_classes\":[\"card-header\"],\"margin\":[5,5,5,5],\"name\":\"Card12488\"},\"id\":\"4847\",\"type\":\"panel.models.layout.Card\"},{\"attributes\":{\"margin\":[5,10,5,10],\"mode\":\"range\",\"title\":\"Date-Time Range\",\"value\":\"2023-03-01 00:00:00 to 2023-03-31 12:59:00\"},\"id\":\"4840\",\"type\":\"panel.models.datetime_picker.DatetimePicker\"},{\"attributes\":{\"css_classes\":[\"card-title\"],\"margin\":[5,0,5,0],\"name\":\"HTML12489\",\"sizing_mode\":\"stretch_width\",\"text\":\"&amp;#8203;\"},\"id\":\"4849\",\"type\":\"panel.models.markup.HTML\"},{\"attributes\":{\"children\":[{\"id\":\"4846\"}],\"margin\":[0,0,0,0],\"name\":\"Row12495\"},\"id\":\"4845\",\"type\":\"Row\"},{\"attributes\":{\"client_comm_id\":\"1a267e777b64486f8c2ac718426d4261\",\"comm_id\":\"7a8b9d61bf8a481f84ee4b4a2006c5b5\",\"plot_id\":\"4825\"},\"id\":\"4853\",\"type\":\"panel.models.comm_manager.CommManager\"},{\"attributes\":{\"children\":[{\"id\":\"4852\"}],\"margin\":[0,0,0,0],\"name\":\"Column12479\"},\"id\":\"4851\",\"type\":\"Column\"},{\"attributes\":{\"children\":[{\"id\":\"4843\"},{\"id\":\"4845\"},{\"id\":\"4847\"}],\"margin\":[0,0,0,0],\"name\":\"Column12500\"},\"id\":\"4842\",\"type\":\"Column\"},{\"attributes\":{\"button_type\":\"success\",\"icon\":null,\"label\":\"Export to time series to CSV\",\"margin\":[5,10,5,10],\"subscribed_events\":[\"button_click\"]},\"id\":\"4841\",\"type\":\"Button\"},{\"attributes\":{\"active_header_background\":\"#ccc\",\"button_css_classes\":[\"card-button\"],\"children\":[{\"id\":\"4835\"},{\"id\":\"4837\"}],\"css_classes\":[\"accordion\"],\"header_background\":\"#0059b3\",\"header_color\":\"white\",\"header_css_classes\":[\"accordion-header\"],\"margin\":[5,5,0,5],\"name\":\"Card12505\"},\"id\":\"4834\",\"type\":\"panel.models.layout.Card\"},{\"attributes\":{\"active\":1,\"button_type\":\"success\",\"labels\":[\"OSM\",\"ESRI\"],\"margin\":[5,10,5,10]},\"id\":\"4837\",\"type\":\"RadioButtonGroup\"},{\"attributes\":{\"children\":[{\"id\":\"4831\"},{\"id\":\"4842\"}],\"margin\":[0,0,0,0],\"name\":\"Row12501\"},\"id\":\"4830\",\"type\":\"Row\"},{\"attributes\":{\"children\":[{\"id\":\"4828\"},{\"id\":\"4829\"}],\"margin\":[0,0,0,0],\"name\":\"Column12477\"},\"id\":\"4827\",\"type\":\"Column\"},{\"attributes\":{\"children\":[{\"id\":\"4844\"}],\"margin\":[0,0,0,0],\"min_height\":400,\"name\":\"Row12486\"},\"id\":\"4843\",\"type\":\"Row\"},{\"attributes\":{\"margin\":[5,10,5,10],\"options\":[\"GLDAS_NOAH025_3H:lon\",\"GLDAS_NOAH025_3H:lat\",\"GLDAS_NOAH025_3H:BCANGSTR\",\"GLDAS_NOAH025_3H:BCCMASS\",\"GLDAS_NOAH025_3H:BCEXTTAU\",\"GLDAS_NOAH025_3H:BCFLUXU\",\"GLDAS_NOAH025_3H:BCFLUXV\",\"GLDAS_NOAH025_3H:BCSCATAU\",\"GLDAS_NOAH025_3H:BCSMASS\",\"GLDAS_NOAH025_3H:DMSCMASS\",\"GLDAS_NOAH025_3H:DMSSMASS\",\"GLDAS_NOAH025_3H:DUANGSTR\",\"GLDAS_NOAH025_3H:DUCMASS\",\"GLDAS_NOAH025_3H:DUCMASS25\",\"GLDAS_NOAH025_3H:DUEXTT25\",\"GLDAS_NOAH025_3H:DUEXTTAU\",\"GLDAS_NOAH025_3H:DUFLUXU\",\"GLDAS_NOAH025_3H:DUFLUXV\",\"GLDAS_NOAH025_3H:DUSCAT25\",\"GLDAS_NOAH025_3H:DUSCATAU\",\"GLDAS_NOAH025_3H:DUSMASS\",\"GLDAS_NOAH025_3H:DUSMASS25\",\"GLDAS_NOAH025_3H:OCANGSTR\",\"GLDAS_NOAH025_3H:OCCMASS\",\"GLDAS_NOAH025_3H:OCEXTTAU\",\"GLDAS_NOAH025_3H:OCFLUXU\",\"GLDAS_NOAH025_3H:OCFLUXV\",\"GLDAS_NOAH025_3H:OCSCATAU\",\"GLDAS_NOAH025_3H:OCSMASS\",\"GLDAS_NOAH025_3H:SO2CMASS\",\"GLDAS_NOAH025_3H:SO2SMASS\",\"GLDAS_NOAH025_3H:SO4CMASS\",\"GLDAS_NOAH025_3H:SO4SMASS\",\"GLDAS_NOAH025_3H:SSANGSTR\",\"GLDAS_NOAH025_3H:SSCMASS\",\"GLDAS_NOAH025_3H:SSCMASS25\",\"GLDAS_NOAH025_3H:SSEXTT25\",\"GLDAS_NOAH025_3H:SSEXTTAU\",\"GLDAS_NOAH025_3H:SSFLUXU\",\"GLDAS_NOAH025_3H:SSFLUXV\",\"GLDAS_NOAH025_3H:SSSCAT25\",\"GLDAS_NOAH025_3H:SSSCATAU\",\"GLDAS_NOAH025_3H:SSSMASS\",\"GLDAS_NOAH025_3H:SSSMASS25\",\"GLDAS_NOAH025_3H:SUANGSTR\",\"GLDAS_NOAH025_3H:SUEXTTAU\",\"GLDAS_NOAH025_3H:SUFLUXU\",\"GLDAS_NOAH025_3H:SUFLUXV\",\"GLDAS_NOAH025_3H:SUSCATAU\",\"GLDAS_NOAH025_3H:TOTANGSTR\",\"GLDAS_NOAH025_3H:TOTEXTTAU\",\"GLDAS_NOAH025_3H:TOTSCATAU\",\"GLDAS_NOAH025_3H:time\"],\"placeholder\":\"\",\"title\":\"Time Series Variables\"},\"id\":\"4839\",\"type\":\"MultiChoice\"},{\"attributes\":{\"css_classes\":[\"markdown\"],\"margin\":[5,5,5,5],\"name\":\"Markdown12475\",\"text\":\"&lt;h2&gt;EIS test subtitle&lt;/h2&gt;\"},\"id\":\"4829\",\"type\":\"panel.models.markup.HTML\"},{\"attributes\":{\"disabled\":true,\"margin\":[5,10,5,10],\"max_length\":5000,\"title\":\"Time Step\",\"value\":\"7D\"},\"id\":\"4838\",\"type\":\"TextInput\"},{\"attributes\":{\"bundle\":{\"spec\":{\"model_id\":\"d1b015897df547468a6cc12e35b7275f\",\"version_major\":2,\"version_minor\":0},\"state\":{\"state\":{\"419e30e6d38949fe8dab95d63549ba6e\":{\"model_module\":\"jupyter-leaflet\",\"model_module_version\":\"^0.17\",\"model_name\":\"LeafletMapStyleModel\",\"state\":{\"cursor\":\"move\"}},\"4694a40353fe4698917da2c6f6956634\":{\"model_module\":\"jupyter-leaflet\",\"model_module_version\":\"^0.17\",\"model_name\":\"LeafletMapStyleModel\",\"state\":{}},\"5d51091c382d49ef8117da7d33eed60b\":{\"model_module\":\"jupyter-leaflet\",\"model_module_version\":\"^0.17\",\"model_name\":\"LeafletZoomControlModel\",\"state\":{\"options\":[\"position\",\"zoom_in_text\",\"zoom_in_title\",\"zoom_out_text\",\"zoom_out_title\"]}},\"9d07ef3fde184d9fa8740e9ad0e063ce\":{\"model_module\":\"jupyter-leaflet\",\"model_module_version\":\"^0.17\",\"model_name\":\"LeafletMarkerModel\",\"state\":{\"location\":[38.85,-76.55],\"options\":[\"alt\",\"draggable\",\"keyboard\",\"rise_offset\",\"rise_on_hover\",\"rotation_angle\",\"rotation_origin\",\"title\",\"z_index_offset\"],\"subitems\":[]}},\"a10b63dc084c4a1b93df15e9fe866fe5\":{\"model_module\":\"@jupyter-widgets/base\",\"model_module_version\":\"2.0.0\",\"model_name\":\"LayoutModel\",\"state\":{\"height\":\"400px\",\"width\":\"800px\"}},\"c6d01014dfa74bd6bab2d109e381148c\":{\"model_module\":\"jupyter-leaflet\",\"model_module_version\":\"^0.17\",\"model_name\":\"LeafletMapStyleModel\",\"state\":{}},\"d1b015897df547468a6cc12e35b7275f\":{\"model_module\":\"jupyter-leaflet\",\"model_module_version\":\"^0.17\",\"model_name\":\"LeafletMapModel\",\"state\":{\"_dom_classes\":[],\"center\":[38.85,-76.55],\"controls\":[\"IPY_MODEL_5d51091c382d49ef8117da7d33eed60b\",\"IPY_MODEL_e0473650191f4e7a887212fef9a3470c\"],\"crs\":{\"custom\":false,\"name\":\"EPSG3857\"},\"default_style\":\"IPY_MODEL_4694a40353fe4698917da2c6f6956634\",\"dragging_style\":\"IPY_MODEL_419e30e6d38949fe8dab95d63549ba6e\",\"layers\":[\"IPY_MODEL_de2ae20df124429c81a17228e0d0a670\",\"IPY_MODEL_9d07ef3fde184d9fa8740e9ad0e063ce\"],\"layout\":\"IPY_MODEL_a10b63dc084c4a1b93df15e9fe866fe5\",\"options\":[\"bounce_at_zoom_limits\",\"box_zoom\",\"center\",\"close_popup_on_click\",\"double_click_zoom\",\"dragging\",\"fullscreen\",\"inertia\",\"inertia_deceleration\",\"inertia_max_speed\",\"interpolation\",\"keyboard\",\"keyboard_pan_offset\",\"keyboard_zoom_offset\",\"max_zoom\",\"min_zoom\",\"prefer_canvas\",\"scroll_wheel_zoom\",\"tap\",\"tap_tolerance\",\"touch_zoom\",\"world_copy_jump\",\"zoom\",\"zoom_animation_threshold\",\"zoom_delta\",\"zoom_snap\"],\"panes\":{},\"scroll_wheel_zoom\":true,\"style\":\"IPY_MODEL_c6d01014dfa74bd6bab2d109e381148c\",\"zoom\":5.0}},\"de2ae20df124429c81a17228e0d0a670\":{\"model_module\":\"jupyter-leaflet\",\"model_module_version\":\"^0.17\",\"model_name\":\"LeafletTileLayerModel\",\"state\":{\"attribution\":\"Tiles &copy; Esri &mdash; Source: Esri, i-cubed, USDA, USGS, AEX, GeoEye, Getmapping, Aerogrid, IGN, IGP, UPR-EGP, and the GIS User Community\",\"base\":true,\"min_zoom\":1,\"name\":\"Esri.WorldImagery\",\"options\":[\"attribution\",\"bounds\",\"detect_retina\",\"max_native_zoom\",\"max_zoom\",\"min_native_zoom\",\"min_zoom\",\"no_wrap\",\"tile_size\",\"tms\",\"zoom_offset\"],\"subitems\":[],\"url\":\"https://server.arcgisonline.com/ArcGIS/rest/services/World_Imagery/MapServer/tile/{z}/{y}/{x}\"}},\"e0473650191f4e7a887212fef9a3470c\":{\"model_module\":\"jupyter-leaflet\",\"model_module_version\":\"^0.17\",\"model_name\":\"LeafletAttributionControlModel\",\"state\":{\"options\":[\"position\",\"prefix\"],\"position\":\"bottomright\"}}},\"version_major\":2,\"version_minor\":0}},\"margin\":[5,5,5,5],\"sizing_mode\":\"stretch_width\"},\"id\":\"4844\",\"type\":\"panel.models.ipywidget.IPyWidget\"},{\"attributes\":{\"children\":[{\"id\":\"4849\"}],\"css_classes\":[\"card-header-row\"],\"margin\":[0,0,0,0],\"name\":\"Row12487\",\"sizing_mode\":\"stretch_width\"},\"id\":\"4848\",\"type\":\"Row\"},{\"attributes\":{\"margin\":[0,0,0,0],\"name\":\"GridBox12480\"},\"id\":\"4852\",\"type\":\"GridBox\"},{\"attributes\":{\"css_classes\":[\"markdown\"],\"margin\":[5,5,5,5],\"name\":\"Markdown12496\",\"text\":\"&lt;h2&gt;Point Selected: (0, 0)&lt;/h2&gt;\",\"width\":400},\"id\":\"4846\",\"type\":\"panel.models.markup.HTML\"},{\"attributes\":{\"children\":[{\"id\":\"4851\"}],\"margin\":[0,0,0,0],\"name\":\"Column12481\"},\"id\":\"4850\",\"type\":\"Column\"},{\"attributes\":{\"children\":[{\"id\":\"4827\"}],\"margin\":[0,0,0,0],\"name\":\"Row12478\"},\"id\":\"4826\",\"type\":\"Row\"},{\"attributes\":{\"children\":[{\"id\":\"4836\"}],\"css_classes\":[\"card-header-row\"],\"margin\":[0,0,0,0],\"name\":\"Row12504\",\"sizing_mode\":\"stretch_width\"},\"id\":\"4835\",\"type\":\"Row\"},{\"attributes\":{\"css_classes\":[\"markdown\"],\"margin\":[5,5,5,5],\"name\":\"Markdown12473\",\"text\":\"&lt;h1&gt;EIS Test Dashboard&lt;/h1&gt;\",\"width\":600},\"id\":\"4828\",\"type\":\"panel.models.markup.HTML\"},{\"attributes\":{\"children\":[{\"id\":\"4834\"}],\"margin\":[0,0,0,0],\"name\":\"Accordion12482\"},\"id\":\"4833\",\"type\":\"Column\"},{\"attributes\":{\"active\":0,\"button_type\":\"success\",\"labels\":[\"Daily\",\"Time Averaged\"],\"margin\":[5,10,5,10]},\"id\":\"4832\",\"type\":\"RadioButtonGroup\"},{\"attributes\":{\"css_classes\":[\"card-title\"],\"margin\":[5,0,5,0],\"name\":\"HTML12506\",\"sizing_mode\":\"stretch_width\",\"text\":\"Basemap Type\"},\"id\":\"4836\",\"type\":\"panel.models.markup.HTML\"},{\"attributes\":{\"children\":[{\"id\":\"4832\"},{\"id\":\"4833\"},{\"id\":\"4838\"},{\"id\":\"4839\"},{\"id\":\"4840\"},{\"id\":\"4841\"}],\"css_classes\":[\"panel-widget-box\"],\"height\":800,\"margin\":[5,5,5,5],\"min_height\":800,\"name\":\"WidgetBox12483\"},\"id\":\"4831\",\"type\":\"Column\"},{\"attributes\":{\"background\":\"WhiteSmoke\",\"children\":[{\"id\":\"4826\"},{\"id\":\"4830\"}],\"margin\":[0,0,0,0],\"name\":\"Column12502\"},\"id\":\"4825\",\"type\":\"Column\"}],\"root_ids\":[\"4825\",\"4853\"]},\"title\":\"Bokeh Application\",\"version\":\"2.4.3\"}};\n",
       "    var render_items = [{\"docid\":\"ea5444b8-c5cc-4e84-9bbc-3a77d7e14206\",\"root_ids\":[\"4825\"],\"roots\":{\"4825\":\"70e12cab-3831-4830-82f2-1e6d018a5232\"}}];\n",
       "    root.Bokeh.embed.embed_items_notebook(docs_json, render_items);\n",
       "  }\n",
       "  if (root.Bokeh !== undefined && root.Bokeh.Panel !== undefined) {\n",
       "    embed_document(root);\n",
       "  } else {\n",
       "    var attempts = 0;\n",
       "    var timer = setInterval(function(root) {\n",
       "      if (root.Bokeh !== undefined && root.Bokeh.Panel !== undefined) {\n",
       "        clearInterval(timer);\n",
       "        embed_document(root);\n",
       "      } else if (document.readyState == \"complete\") {\n",
       "        attempts++;\n",
       "        if (attempts > 200) {\n",
       "          clearInterval(timer);\n",
       "          console.log(\"Bokeh: ERROR: Unable to run BokehJS code because BokehJS library is missing\");\n",
       "        }\n",
       "      }\n",
       "    }, 25, root)\n",
       "  }\n",
       "})(window);</script>"
      ],
      "text/plain": [
       "Column(background='WhiteSmoke')\n",
       "    [0] Row\n",
       "        [0] Column\n",
       "            [0] Markdown(str, width=600)\n",
       "            [1] Markdown(str)\n",
       "    [1] Row\n",
       "        [0] WidgetBox(height=800)\n",
       "            [0] RadioButtonGroup(button_type='success', name='Visualization Type', options=['Daily', 'Time A...], value='Daily')\n",
       "            [1] Accordion(header_background='#0059b3', header_color='white')\n",
       "                [0] RadioButtonGroup(button_type='success', name='Base map layer', options=['OSM', 'ESRI'], value='ESRI')\n",
       "            [2] TextInput(disabled=True, name='Time Step', value='7D')\n",
       "            [3] MultiChoice(name='Time Series Variables', options=['GLDAS_NOAH025_3H:lon', ...])\n",
       "            [4] DatetimeRangePicker(name='Date-Time Range', value=(datetime.datetime(2023, ...)\n",
       "            [5] Button(button_type='success', name='Export to time s...)\n",
       "        [1] Column\n",
       "            [0] Row(min_height=400)\n",
       "                [0] IPyLeaflet(Map)\n",
       "            [1] ParamFunction(function)\n",
       "            [2] Card\n",
       "                [0] Column\n",
       "                    [0] Column\n",
       "                        [0] GridBox(ncols=2, nrows=1)"
      ]
     },
     "execution_count": 31,
     "metadata": {
      "application/vnd.holoviews_exec.v0+json": {
       "id": "4825"
      }
     },
     "output_type": "execute_result"
    }
   ],
   "source": [
    "dashboard.view()"
   ]
  },
  {
   "cell_type": "code",
   "execution_count": null,
   "id": "eb726128-d635-412b-8b2d-4533f6f97a6e",
   "metadata": {},
   "outputs": [],
   "source": []
  }
 ],
 "metadata": {
  "kernelspec": {
   "display_name": "ILAB Kernel (Pytorch)",
   "language": "python",
   "name": "pytorch-kernel"
  },
  "language_info": {
   "codemirror_mode": {
    "name": "ipython",
    "version": 3
   },
   "file_extension": ".py",
   "mimetype": "text/x-python",
   "name": "python",
   "nbconvert_exporter": "python",
   "pygments_lexer": "ipython3",
   "version": "3.9.15"
  }
 },
 "nbformat": 4,
 "nbformat_minor": 5
}
