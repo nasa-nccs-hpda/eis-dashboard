{
 "cells": [
  {
   "cell_type": "raw",
   "id": "e629dd77-1dc5-4b22-889c-350b09e44c13",
   "metadata": {},
   "source": [
    "# function to access a list of file (s3 urls) using open_mfdataset\n",
    "# monitor usage of memory during the process"
   ]
  },
  {
   "cell_type": "code",
   "execution_count": 4,
   "id": "f0b37381-29ad-488e-892a-783b3d52dfea",
   "metadata": {},
   "outputs": [],
   "source": [
    "import s3fs\n",
    "import xarray as xr\n",
    "import os\n",
    "import requests\n",
    "import sys"
   ]
  },
  {
   "cell_type": "code",
   "execution_count": 6,
   "id": "4081fbd4-4559-49b7-9d9f-d9473cf62cc3",
   "metadata": {},
   "outputs": [
    {
     "name": "stdout",
     "output_type": "stream",
     "text": [
      "machine urs.earthdata.nasa.gov login cssprad1 password Spra9209!\n"
     ]
    }
   ],
   "source": [
    "! cat ~/.netrc"
   ]
  },
  {
   "cell_type": "code",
   "execution_count": 7,
   "id": "1646e360-deaa-4874-88f5-6a6e76dac261",
   "metadata": {},
   "outputs": [],
   "source": [
    "def get_temp_creds(provider):\n",
    "    \n",
    "    s3_cred_endpoint = {\n",
    "    'podaac':'https://archive.podaac.earthdata.nasa.gov/s3credentials',\n",
    "    'gesdisc': 'https://data.gesdisc.earthdata.nasa.gov/s3credentials',\n",
    "    'lpdaac':'https://data.lpdaac.earthdatacloud.nasa.gov/s3credentials',\n",
    "    'ornldaac': 'https://data.ornldaac.earthdata.nasa.gov/s3credentials',\n",
    "    'ghrcdaac': 'https://data.ghrc.earthdata.nasa.gov/s3credentials'\n",
    "    }\n",
    "    \n",
    "    return requests.get(s3_cred_endpoint[provider]).json()"
   ]
  },
  {
   "cell_type": "code",
   "execution_count": 12,
   "id": "172632e3-132f-492d-a459-fec026b25efc",
   "metadata": {},
   "outputs": [],
   "source": [
    "temp_creds_req = get_temp_creds('gesdisc')\n",
    "fs = s3fs.S3FileSystem(anon=False, \n",
    "                          key=temp_creds_req['accessKeyId'], \n",
    "                          secret=temp_creds_req['secretAccessKey'], \n",
    "                          token=temp_creds_req['sessionToken'])\n",
    "\n",
    "## Example of getting a list of SSH urls; Can be replaced by CMR \n",
    "short_name = 'GLDAS/GLDAS_NOAH025_3H.2.1/2019/138'\n",
    "bucket = os.path.join('s3://gesdisc-cumulus-prod-protected/', short_name, 'GLDAS_NOAH025_3H.A20190518*.nc4')\n",
    "ssh_files = fs.glob(bucket)"
   ]
  },
  {
   "cell_type": "code",
   "execution_count": 14,
   "id": "5670313d-39ac-4ce4-b77e-99176dc00e95",
   "metadata": {},
   "outputs": [
    {
     "data": {
      "text/plain": [
       "[]"
      ]
     },
     "execution_count": 14,
     "metadata": {},
     "output_type": "execute_result"
    }
   ],
   "source": [
    "ssh_files"
   ]
  },
  {
   "cell_type": "code",
   "execution_count": 13,
   "id": "581a7a50-00dd-412e-99f5-02c7cf47db9e",
   "metadata": {},
   "outputs": [
    {
     "ename": "OSError",
     "evalue": "no files to open",
     "output_type": "error",
     "traceback": [
      "\u001b[0;31m---------------------------------------------------------------------------\u001b[0m",
      "\u001b[0;31mOSError\u001b[0m                                   Traceback (most recent call last)",
      "File \u001b[0;32m<timed exec>:2\u001b[0m\n",
      "File \u001b[0;32m/panfs/ccds02/app/modules/jupyter/ilab/pytorch-kernel/lib/python3.9/site-packages/xarray/backends/api.py:961\u001b[0m, in \u001b[0;36mopen_mfdataset\u001b[0;34m(paths, chunks, concat_dim, compat, preprocess, engine, data_vars, coords, combine, parallel, join, attrs_file, combine_attrs, **kwargs)\u001b[0m\n\u001b[1;32m    958\u001b[0m     paths \u001b[38;5;241m=\u001b[39m [os\u001b[38;5;241m.\u001b[39mfspath(p) \u001b[38;5;28;01mif\u001b[39;00m \u001b[38;5;28misinstance\u001b[39m(p, os\u001b[38;5;241m.\u001b[39mPathLike) \u001b[38;5;28;01melse\u001b[39;00m p \u001b[38;5;28;01mfor\u001b[39;00m p \u001b[38;5;129;01min\u001b[39;00m paths]\n\u001b[1;32m    960\u001b[0m \u001b[38;5;28;01mif\u001b[39;00m \u001b[38;5;129;01mnot\u001b[39;00m paths:\n\u001b[0;32m--> 961\u001b[0m     \u001b[38;5;28;01mraise\u001b[39;00m \u001b[38;5;167;01mOSError\u001b[39;00m(\u001b[38;5;124m\"\u001b[39m\u001b[38;5;124mno files to open\u001b[39m\u001b[38;5;124m\"\u001b[39m)\n\u001b[1;32m    963\u001b[0m \u001b[38;5;28;01mif\u001b[39;00m combine \u001b[38;5;241m==\u001b[39m \u001b[38;5;124m\"\u001b[39m\u001b[38;5;124mnested\u001b[39m\u001b[38;5;124m\"\u001b[39m:\n\u001b[1;32m    964\u001b[0m     \u001b[38;5;28;01mif\u001b[39;00m \u001b[38;5;28misinstance\u001b[39m(concat_dim, (\u001b[38;5;28mstr\u001b[39m, DataArray)) \u001b[38;5;129;01mor\u001b[39;00m concat_dim \u001b[38;5;129;01mis\u001b[39;00m \u001b[38;5;28;01mNone\u001b[39;00m:\n",
      "\u001b[0;31mOSError\u001b[0m: no files to open"
     ]
    }
   ],
   "source": [
    "%%time\n",
    "fileset = [fs.open(url) for url in ssh_files]\n",
    "data = xr.open_mfdataset(fileset, combine='by_coords')"
   ]
  },
  {
   "cell_type": "code",
   "execution_count": null,
   "id": "a14bf661-a93a-46ff-84cd-eb35fd48326f",
   "metadata": {},
   "outputs": [],
   "source": []
  }
 ],
 "metadata": {
  "kernelspec": {
   "display_name": "Python [conda env:ilab-pytorch]",
   "language": "python",
   "name": "conda-env-ilab-pytorch-py"
  },
  "language_info": {
   "codemirror_mode": {
    "name": "ipython",
    "version": 3
   },
   "file_extension": ".py",
   "mimetype": "text/x-python",
   "name": "python",
   "nbconvert_exporter": "python",
   "pygments_lexer": "ipython3",
   "version": "3.9.15"
  }
 },
 "nbformat": 4,
 "nbformat_minor": 5
}
