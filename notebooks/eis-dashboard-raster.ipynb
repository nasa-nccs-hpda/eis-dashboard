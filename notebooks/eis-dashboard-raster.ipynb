{
 "cells": [
  {
   "cell_type": "markdown",
   "id": "0c505e0f-b544-4627-81a3-761f31e330ad",
   "metadata": {},
   "source": [
    "# EIS Raster Dashboard\n",
    "\n",
    "Version: 0.3.0\n",
    "\n",
    "Date: 01.14.24\n",
    "## Note:\n",
    "This is a beta version of the notebooks/application. There may be bugs or unforseen error while users are interacting with it.\n",
    "\n",
    "## Bug reporting\n",
    "As this is an beta version, it is highly encouraged for any users to submit a bug report so developers may resolve it. To report a bug, click here\n",
    "https://github.com/nasa-nccs-hpda/eis-dashboard/issues, click \"New Issue\" and select \"Bug Report\". A log file will be generated in this dir, please attach the log to the bug report. \n",
    "\n",
    "## Instructions:\n",
    "- Run all of the below code cells\n",
    "- A dashboard will be visualized, click \"Variables\" widget to select a variable to visualize the variable of. \n",
    "- Click \"Time\" widget to show the data collected at the time.\n",
    "\n",
    "\n",
    "### Note: \n",
    "It may take some time for the variable to load into memory and be visualized. In order to keep this usable on most\n",
    "systems it is necessary to fit the data into distributed dask arrays in case the data is too large for the memory\n",
    "capacity of the system running the dashboard."
   ]
  },
  {
   "cell_type": "code",
   "execution_count": null,
   "id": "64e91945-5eda-4bc6-9d71-27abaa0416ec",
   "metadata": {},
   "outputs": [],
   "source": [
    "!pip install omegaconf"
   ]
  },
  {
   "cell_type": "code",
   "execution_count": null,
   "id": "f062d5d8-05ec-4b1a-8c32-0956cac4d918",
   "metadata": {},
   "outputs": [],
   "source": [
    "import sys\n",
    "\n",
    "sys.path.append('../../eis-dashboard')\n",
    "\n",
    "from eisdashboard.model.rasterDashboard import RasterDashboard"
   ]
  },
  {
   "cell_type": "code",
   "execution_count": null,
   "id": "12fe7f36-9b28-4934-a923-fb8523f9273f",
   "metadata": {},
   "outputs": [],
   "source": [
    "import panel as pn\n",
    "pn.extension()"
   ]
  },
  {
   "cell_type": "code",
   "execution_count": null,
   "id": "ae0d2e17-55e2-4b5c-860c-bb9682b970e5",
   "metadata": {},
   "outputs": [],
   "source": [
    "dashboard = RasterDashboard(config_file='../../eis-dashboard/configs/dev_configs/example_config_raster.yaml')"
   ]
  },
  {
   "cell_type": "markdown",
   "id": "6ba270b9-88a9-46b6-9017-b40fab167a82",
   "metadata": {
    "tags": []
   },
   "source": [
    "## EIS General Raster dashboard instructions\n",
    "\n",
    "1. Run the below code cell to render the dashboard. \n",
    "\n",
    "The data requested through the config file is already loaded, you may select variables and time\n",
    "\n",
    "2. Select which variables to render by searching through the \"Variables\" widget.\n",
    "\n",
    "The varible will be rendered (sometimes this may lag)\n",
    "\n",
    "3. Click on the \"Time\" widget to show the data collected at the time. \n",
    "\n",
    "The variable at the different time step will be redered\n",
    "\n",
    "<i> Note: The status indicator below the title of the dashboard will show the status of the dashboard </i>\n"
   ]
  },
  {
   "cell_type": "code",
   "execution_count": null,
   "id": "902dfdab-9b29-4e49-9a1a-52403be60afd",
   "metadata": {},
   "outputs": [],
   "source": [
    "dashboard.view()"
   ]
  },
  {
   "cell_type": "code",
   "execution_count": null,
   "id": "1d9b98b6-20bd-4b9e-8d8a-7a2b1e0bb4f8",
   "metadata": {},
   "outputs": [],
   "source": []
  }
 ],
 "metadata": {
  "kernelspec": {
   "display_name": "Python 3 (ipykernel)",
   "language": "python",
   "name": "python3"
  },
  "language_info": {
   "codemirror_mode": {
    "name": "ipython",
    "version": 3
   },
   "file_extension": ".py",
   "mimetype": "text/x-python",
   "name": "python",
   "nbconvert_exporter": "python",
   "pygments_lexer": "ipython3",
   "version": "3.9.13"
  }
 },
 "nbformat": 4,
 "nbformat_minor": 5
}
